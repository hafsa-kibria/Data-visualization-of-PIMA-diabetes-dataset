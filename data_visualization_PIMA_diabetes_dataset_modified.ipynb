{
  "nbformat": 4,
  "nbformat_minor": 0,
  "metadata": {
    "colab": {
      "name": "data_visualization_PIMA_diabetes_dataset.ipynb",
      "provenance": [],
      "collapsed_sections": []
    },
    "kernelspec": {
      "name": "python3",
      "display_name": "Python 3"
    },
    "language_info": {
      "name": "python"
    }
  },
  "cells": [
    {
      "cell_type": "code",
      "metadata": {
        "id": "j7B8oiGBUoyB"
      },
      "source": [
        "from sklearn.model_selection import train_test_split\n",
        "from sklearn.preprocessing import MinMaxScaler,StandardScaler\n",
        "from matplotlib import pyplot as plt\n",
        "from sklearn import tree\n",
        "import numpy\n",
        "import pandas as pd\n",
        "import numpy as np\n",
        "import seaborn as sns\n",
        "from sklearn.metrics import classification_report\n",
        "import sklearn.metrics as metrics\n",
        "import warnings\n",
        "warnings.filterwarnings(\"ignore\")"
      ],
      "execution_count": 1,
      "outputs": []
    },
    {
      "cell_type": "code",
      "metadata": {
        "colab": {
          "base_uri": "https://localhost:8080/"
        },
        "id": "xG9e0o7oWu2G",
        "outputId": "770749d6-441b-4c7b-ae25-142ee2ca19e8"
      },
      "source": [
        "from google.colab import drive\n",
        "drive.mount('/content/drive')"
      ],
      "execution_count": 2,
      "outputs": [
        {
          "output_type": "stream",
          "name": "stdout",
          "text": [
            "Drive already mounted at /content/drive; to attempt to forcibly remount, call drive.mount(\"/content/drive\", force_remount=True).\n"
          ]
        }
      ]
    },
    {
      "cell_type": "markdown",
      "metadata": {
        "id": "0Nl8oLkRUh5x"
      },
      "source": [
        ""
      ]
    },
    {
      "cell_type": "markdown",
      "metadata": {
        "id": "jThAo65aUh65"
      },
      "source": [
        "**data1 contains missing values and data is after knn imputation(with out any missing values)**"
      ]
    },
    {
      "cell_type": "code",
      "metadata": {
        "id": "uNw3suT8Wsav"
      },
      "source": [
        "#data1 contains missing values and data is after knn imputation\n",
        "data = pd.read_csv(\"/content/drive/MyDrive/Colab Notebooks/diabetics_knn_imputer_with_label.csv\", delimiter=\",\")\n",
        "data1 = pd.read_csv(\"/content/drive/MyDrive/Colab Notebooks/diabetics_with_missing_values.csv\", delimiter=\",\")"
      ],
      "execution_count": 3,
      "outputs": []
    },
    {
      "cell_type": "code",
      "metadata": {
        "colab": {
          "base_uri": "https://localhost:8080/",
          "height": 415
        },
        "id": "9lNlKNvFce73",
        "outputId": "98db4157-e01a-4bbb-859a-2ff9549bfde0"
      },
      "source": [
        "data"
      ],
      "execution_count": 4,
      "outputs": [
        {
          "output_type": "execute_result",
          "data": {
            "text/html": [
              "<div>\n",
              "<style scoped>\n",
              "    .dataframe tbody tr th:only-of-type {\n",
              "        vertical-align: middle;\n",
              "    }\n",
              "\n",
              "    .dataframe tbody tr th {\n",
              "        vertical-align: top;\n",
              "    }\n",
              "\n",
              "    .dataframe thead th {\n",
              "        text-align: right;\n",
              "    }\n",
              "</style>\n",
              "<table border=\"1\" class=\"dataframe\">\n",
              "  <thead>\n",
              "    <tr style=\"text-align: right;\">\n",
              "      <th></th>\n",
              "      <th>Pregnancies</th>\n",
              "      <th>Glucose</th>\n",
              "      <th>BloodPressure</th>\n",
              "      <th>SkinThickness</th>\n",
              "      <th>Insulin</th>\n",
              "      <th>BMI</th>\n",
              "      <th>DiabtsPFunction</th>\n",
              "      <th>Age</th>\n",
              "      <th>Outcome</th>\n",
              "    </tr>\n",
              "  </thead>\n",
              "  <tbody>\n",
              "    <tr>\n",
              "      <th>0</th>\n",
              "      <td>6.000000</td>\n",
              "      <td>148.0</td>\n",
              "      <td>82.051495</td>\n",
              "      <td>35.000000</td>\n",
              "      <td>162.199835</td>\n",
              "      <td>33.6</td>\n",
              "      <td>0.627</td>\n",
              "      <td>50</td>\n",
              "      <td>1</td>\n",
              "    </tr>\n",
              "    <tr>\n",
              "      <th>1</th>\n",
              "      <td>1.000000</td>\n",
              "      <td>85.0</td>\n",
              "      <td>66.000000</td>\n",
              "      <td>29.000000</td>\n",
              "      <td>58.700165</td>\n",
              "      <td>26.6</td>\n",
              "      <td>0.351</td>\n",
              "      <td>31</td>\n",
              "      <td>0</td>\n",
              "    </tr>\n",
              "    <tr>\n",
              "      <th>2</th>\n",
              "      <td>8.000000</td>\n",
              "      <td>183.0</td>\n",
              "      <td>64.000000</td>\n",
              "      <td>27.105378</td>\n",
              "      <td>175.874596</td>\n",
              "      <td>23.3</td>\n",
              "      <td>0.672</td>\n",
              "      <td>32</td>\n",
              "      <td>1</td>\n",
              "    </tr>\n",
              "    <tr>\n",
              "      <th>3</th>\n",
              "      <td>1.000000</td>\n",
              "      <td>89.0</td>\n",
              "      <td>66.000000</td>\n",
              "      <td>23.000000</td>\n",
              "      <td>94.000000</td>\n",
              "      <td>28.1</td>\n",
              "      <td>0.167</td>\n",
              "      <td>21</td>\n",
              "      <td>0</td>\n",
              "    </tr>\n",
              "    <tr>\n",
              "      <th>4</th>\n",
              "      <td>5.375201</td>\n",
              "      <td>137.0</td>\n",
              "      <td>40.000000</td>\n",
              "      <td>35.000000</td>\n",
              "      <td>168.000000</td>\n",
              "      <td>43.1</td>\n",
              "      <td>2.288</td>\n",
              "      <td>33</td>\n",
              "      <td>1</td>\n",
              "    </tr>\n",
              "    <tr>\n",
              "      <th>...</th>\n",
              "      <td>...</td>\n",
              "      <td>...</td>\n",
              "      <td>...</td>\n",
              "      <td>...</td>\n",
              "      <td>...</td>\n",
              "      <td>...</td>\n",
              "      <td>...</td>\n",
              "      <td>...</td>\n",
              "      <td>...</td>\n",
              "    </tr>\n",
              "    <tr>\n",
              "      <th>763</th>\n",
              "      <td>10.000000</td>\n",
              "      <td>101.0</td>\n",
              "      <td>76.000000</td>\n",
              "      <td>48.000000</td>\n",
              "      <td>180.000000</td>\n",
              "      <td>32.9</td>\n",
              "      <td>0.171</td>\n",
              "      <td>63</td>\n",
              "      <td>0</td>\n",
              "    </tr>\n",
              "    <tr>\n",
              "      <th>764</th>\n",
              "      <td>2.000000</td>\n",
              "      <td>122.0</td>\n",
              "      <td>70.000000</td>\n",
              "      <td>27.000000</td>\n",
              "      <td>165.563526</td>\n",
              "      <td>36.8</td>\n",
              "      <td>0.340</td>\n",
              "      <td>27</td>\n",
              "      <td>0</td>\n",
              "    </tr>\n",
              "    <tr>\n",
              "      <th>765</th>\n",
              "      <td>5.000000</td>\n",
              "      <td>121.0</td>\n",
              "      <td>72.000000</td>\n",
              "      <td>23.000000</td>\n",
              "      <td>112.000000</td>\n",
              "      <td>26.2</td>\n",
              "      <td>0.245</td>\n",
              "      <td>30</td>\n",
              "      <td>0</td>\n",
              "    </tr>\n",
              "    <tr>\n",
              "      <th>766</th>\n",
              "      <td>1.000000</td>\n",
              "      <td>126.0</td>\n",
              "      <td>60.000000</td>\n",
              "      <td>34.895357</td>\n",
              "      <td>145.423350</td>\n",
              "      <td>30.1</td>\n",
              "      <td>0.349</td>\n",
              "      <td>47</td>\n",
              "      <td>1</td>\n",
              "    </tr>\n",
              "    <tr>\n",
              "      <th>767</th>\n",
              "      <td>1.000000</td>\n",
              "      <td>93.0</td>\n",
              "      <td>70.000000</td>\n",
              "      <td>31.000000</td>\n",
              "      <td>84.133887</td>\n",
              "      <td>30.4</td>\n",
              "      <td>0.315</td>\n",
              "      <td>23</td>\n",
              "      <td>0</td>\n",
              "    </tr>\n",
              "  </tbody>\n",
              "</table>\n",
              "<p>768 rows × 9 columns</p>\n",
              "</div>"
            ],
            "text/plain": [
              "     Pregnancies  Glucose  BloodPressure  ...  DiabtsPFunction  Age  Outcome\n",
              "0       6.000000    148.0      82.051495  ...            0.627   50        1\n",
              "1       1.000000     85.0      66.000000  ...            0.351   31        0\n",
              "2       8.000000    183.0      64.000000  ...            0.672   32        1\n",
              "3       1.000000     89.0      66.000000  ...            0.167   21        0\n",
              "4       5.375201    137.0      40.000000  ...            2.288   33        1\n",
              "..           ...      ...            ...  ...              ...  ...      ...\n",
              "763    10.000000    101.0      76.000000  ...            0.171   63        0\n",
              "764     2.000000    122.0      70.000000  ...            0.340   27        0\n",
              "765     5.000000    121.0      72.000000  ...            0.245   30        0\n",
              "766     1.000000    126.0      60.000000  ...            0.349   47        1\n",
              "767     1.000000     93.0      70.000000  ...            0.315   23        0\n",
              "\n",
              "[768 rows x 9 columns]"
            ]
          },
          "metadata": {},
          "execution_count": 4
        }
      ]
    },
    {
      "cell_type": "code",
      "metadata": {
        "colab": {
          "base_uri": "https://localhost:8080/",
          "height": 415
        },
        "id": "exOeigQ0JAgI",
        "outputId": "aa9715e6-3fee-4fcf-a1b7-6cd98bc0d6cb"
      },
      "source": [
        "scaler = MinMaxScaler(feature_range=(0,1))\n",
        "df=scaler.fit_transform(data)\n",
        "df = pd.DataFrame(df) \n",
        "df"
      ],
      "execution_count": 21,
      "outputs": [
        {
          "output_type": "execute_result",
          "data": {
            "text/html": [
              "<div>\n",
              "<style scoped>\n",
              "    .dataframe tbody tr th:only-of-type {\n",
              "        vertical-align: middle;\n",
              "    }\n",
              "\n",
              "    .dataframe tbody tr th {\n",
              "        vertical-align: top;\n",
              "    }\n",
              "\n",
              "    .dataframe thead th {\n",
              "        text-align: right;\n",
              "    }\n",
              "</style>\n",
              "<table border=\"1\" class=\"dataframe\">\n",
              "  <thead>\n",
              "    <tr style=\"text-align: right;\">\n",
              "      <th></th>\n",
              "      <th>0</th>\n",
              "      <th>1</th>\n",
              "      <th>2</th>\n",
              "      <th>3</th>\n",
              "      <th>4</th>\n",
              "      <th>5</th>\n",
              "      <th>6</th>\n",
              "      <th>7</th>\n",
              "      <th>8</th>\n",
              "    </tr>\n",
              "  </thead>\n",
              "  <tbody>\n",
              "    <tr>\n",
              "      <th>0</th>\n",
              "      <td>0.31250</td>\n",
              "      <td>0.670968</td>\n",
              "      <td>0.592362</td>\n",
              "      <td>0.304348</td>\n",
              "      <td>0.178125</td>\n",
              "      <td>0.314928</td>\n",
              "      <td>0.234415</td>\n",
              "      <td>0.483333</td>\n",
              "      <td>1.0</td>\n",
              "    </tr>\n",
              "    <tr>\n",
              "      <th>1</th>\n",
              "      <td>0.00000</td>\n",
              "      <td>0.264516</td>\n",
              "      <td>0.428571</td>\n",
              "      <td>0.239130</td>\n",
              "      <td>0.053726</td>\n",
              "      <td>0.171779</td>\n",
              "      <td>0.116567</td>\n",
              "      <td>0.166667</td>\n",
              "      <td>0.0</td>\n",
              "    </tr>\n",
              "    <tr>\n",
              "      <th>2</th>\n",
              "      <td>0.43750</td>\n",
              "      <td>0.896774</td>\n",
              "      <td>0.408163</td>\n",
              "      <td>0.218537</td>\n",
              "      <td>0.194561</td>\n",
              "      <td>0.104294</td>\n",
              "      <td>0.253629</td>\n",
              "      <td>0.183333</td>\n",
              "      <td>1.0</td>\n",
              "    </tr>\n",
              "    <tr>\n",
              "      <th>3</th>\n",
              "      <td>0.00000</td>\n",
              "      <td>0.290323</td>\n",
              "      <td>0.428571</td>\n",
              "      <td>0.173913</td>\n",
              "      <td>0.096154</td>\n",
              "      <td>0.202454</td>\n",
              "      <td>0.038002</td>\n",
              "      <td>0.000000</td>\n",
              "      <td>0.0</td>\n",
              "    </tr>\n",
              "    <tr>\n",
              "      <th>4</th>\n",
              "      <td>0.27345</td>\n",
              "      <td>0.600000</td>\n",
              "      <td>0.163265</td>\n",
              "      <td>0.304348</td>\n",
              "      <td>0.185096</td>\n",
              "      <td>0.509202</td>\n",
              "      <td>0.943638</td>\n",
              "      <td>0.200000</td>\n",
              "      <td>1.0</td>\n",
              "    </tr>\n",
              "    <tr>\n",
              "      <th>...</th>\n",
              "      <td>...</td>\n",
              "      <td>...</td>\n",
              "      <td>...</td>\n",
              "      <td>...</td>\n",
              "      <td>...</td>\n",
              "      <td>...</td>\n",
              "      <td>...</td>\n",
              "      <td>...</td>\n",
              "      <td>...</td>\n",
              "    </tr>\n",
              "    <tr>\n",
              "      <th>763</th>\n",
              "      <td>0.56250</td>\n",
              "      <td>0.367742</td>\n",
              "      <td>0.530612</td>\n",
              "      <td>0.445652</td>\n",
              "      <td>0.199519</td>\n",
              "      <td>0.300613</td>\n",
              "      <td>0.039710</td>\n",
              "      <td>0.700000</td>\n",
              "      <td>0.0</td>\n",
              "    </tr>\n",
              "    <tr>\n",
              "      <th>764</th>\n",
              "      <td>0.06250</td>\n",
              "      <td>0.503226</td>\n",
              "      <td>0.469388</td>\n",
              "      <td>0.217391</td>\n",
              "      <td>0.182168</td>\n",
              "      <td>0.380368</td>\n",
              "      <td>0.111870</td>\n",
              "      <td>0.100000</td>\n",
              "      <td>0.0</td>\n",
              "    </tr>\n",
              "    <tr>\n",
              "      <th>765</th>\n",
              "      <td>0.25000</td>\n",
              "      <td>0.496774</td>\n",
              "      <td>0.489796</td>\n",
              "      <td>0.173913</td>\n",
              "      <td>0.117788</td>\n",
              "      <td>0.163599</td>\n",
              "      <td>0.071307</td>\n",
              "      <td>0.150000</td>\n",
              "      <td>0.0</td>\n",
              "    </tr>\n",
              "    <tr>\n",
              "      <th>766</th>\n",
              "      <td>0.00000</td>\n",
              "      <td>0.529032</td>\n",
              "      <td>0.367347</td>\n",
              "      <td>0.303210</td>\n",
              "      <td>0.157961</td>\n",
              "      <td>0.243354</td>\n",
              "      <td>0.115713</td>\n",
              "      <td>0.433333</td>\n",
              "      <td>1.0</td>\n",
              "    </tr>\n",
              "    <tr>\n",
              "      <th>767</th>\n",
              "      <td>0.00000</td>\n",
              "      <td>0.316129</td>\n",
              "      <td>0.469388</td>\n",
              "      <td>0.260870</td>\n",
              "      <td>0.084296</td>\n",
              "      <td>0.249489</td>\n",
              "      <td>0.101196</td>\n",
              "      <td>0.033333</td>\n",
              "      <td>0.0</td>\n",
              "    </tr>\n",
              "  </tbody>\n",
              "</table>\n",
              "<p>768 rows × 9 columns</p>\n",
              "</div>"
            ],
            "text/plain": [
              "           0         1         2         3  ...         5         6         7    8\n",
              "0    0.31250  0.670968  0.592362  0.304348  ...  0.314928  0.234415  0.483333  1.0\n",
              "1    0.00000  0.264516  0.428571  0.239130  ...  0.171779  0.116567  0.166667  0.0\n",
              "2    0.43750  0.896774  0.408163  0.218537  ...  0.104294  0.253629  0.183333  1.0\n",
              "3    0.00000  0.290323  0.428571  0.173913  ...  0.202454  0.038002  0.000000  0.0\n",
              "4    0.27345  0.600000  0.163265  0.304348  ...  0.509202  0.943638  0.200000  1.0\n",
              "..       ...       ...       ...       ...  ...       ...       ...       ...  ...\n",
              "763  0.56250  0.367742  0.530612  0.445652  ...  0.300613  0.039710  0.700000  0.0\n",
              "764  0.06250  0.503226  0.469388  0.217391  ...  0.380368  0.111870  0.100000  0.0\n",
              "765  0.25000  0.496774  0.489796  0.173913  ...  0.163599  0.071307  0.150000  0.0\n",
              "766  0.00000  0.529032  0.367347  0.303210  ...  0.243354  0.115713  0.433333  1.0\n",
              "767  0.00000  0.316129  0.469388  0.260870  ...  0.249489  0.101196  0.033333  0.0\n",
              "\n",
              "[768 rows x 9 columns]"
            ]
          },
          "metadata": {},
          "execution_count": 21
        }
      ]
    },
    {
      "cell_type": "markdown",
      "metadata": {
        "id": "jL8o_1lIirc-"
      },
      "source": [
        "#Description of dataset\n",
        "Here all attributes’ count, minimum, maximum values, and other information have been displayed."
      ]
    },
    {
      "cell_type": "markdown",
      "metadata": {
        "id": "dB6G-mUhlELP"
      },
      "source": [
        "**Dataset description with missing values**"
      ]
    },
    {
      "cell_type": "code",
      "metadata": {
        "colab": {
          "base_uri": "https://localhost:8080/",
          "height": 325
        },
        "id": "AZhmropifk_Y",
        "outputId": "4265a65d-b31a-4f26-f338-302dc3437c85"
      },
      "source": [
        "data1.describe().T"
      ],
      "execution_count": 6,
      "outputs": [
        {
          "output_type": "execute_result",
          "data": {
            "text/html": [
              "<div>\n",
              "<style scoped>\n",
              "    .dataframe tbody tr th:only-of-type {\n",
              "        vertical-align: middle;\n",
              "    }\n",
              "\n",
              "    .dataframe tbody tr th {\n",
              "        vertical-align: top;\n",
              "    }\n",
              "\n",
              "    .dataframe thead th {\n",
              "        text-align: right;\n",
              "    }\n",
              "</style>\n",
              "<table border=\"1\" class=\"dataframe\">\n",
              "  <thead>\n",
              "    <tr style=\"text-align: right;\">\n",
              "      <th></th>\n",
              "      <th>count</th>\n",
              "      <th>mean</th>\n",
              "      <th>std</th>\n",
              "      <th>min</th>\n",
              "      <th>25%</th>\n",
              "      <th>50%</th>\n",
              "      <th>75%</th>\n",
              "      <th>max</th>\n",
              "    </tr>\n",
              "  </thead>\n",
              "  <tbody>\n",
              "    <tr>\n",
              "      <th>Pregnancies</th>\n",
              "      <td>657.0</td>\n",
              "      <td>4.494673</td>\n",
              "      <td>3.217291</td>\n",
              "      <td>1.000</td>\n",
              "      <td>2.00000</td>\n",
              "      <td>4.0000</td>\n",
              "      <td>7.00000</td>\n",
              "      <td>17.00</td>\n",
              "    </tr>\n",
              "    <tr>\n",
              "      <th>Glucose</th>\n",
              "      <td>763.0</td>\n",
              "      <td>121.686763</td>\n",
              "      <td>30.535641</td>\n",
              "      <td>44.000</td>\n",
              "      <td>99.00000</td>\n",
              "      <td>117.0000</td>\n",
              "      <td>141.00000</td>\n",
              "      <td>199.00</td>\n",
              "    </tr>\n",
              "    <tr>\n",
              "      <th>BloodPressure</th>\n",
              "      <td>732.0</td>\n",
              "      <td>72.405738</td>\n",
              "      <td>12.390616</td>\n",
              "      <td>24.000</td>\n",
              "      <td>64.00000</td>\n",
              "      <td>72.0000</td>\n",
              "      <td>80.00000</td>\n",
              "      <td>122.00</td>\n",
              "    </tr>\n",
              "    <tr>\n",
              "      <th>SkinThickness</th>\n",
              "      <td>541.0</td>\n",
              "      <td>29.153420</td>\n",
              "      <td>10.476982</td>\n",
              "      <td>7.000</td>\n",
              "      <td>22.00000</td>\n",
              "      <td>29.0000</td>\n",
              "      <td>36.00000</td>\n",
              "      <td>99.00</td>\n",
              "    </tr>\n",
              "    <tr>\n",
              "      <th>Insulin</th>\n",
              "      <td>394.0</td>\n",
              "      <td>155.548223</td>\n",
              "      <td>118.775855</td>\n",
              "      <td>14.000</td>\n",
              "      <td>76.25000</td>\n",
              "      <td>125.0000</td>\n",
              "      <td>190.00000</td>\n",
              "      <td>846.00</td>\n",
              "    </tr>\n",
              "    <tr>\n",
              "      <th>BMI</th>\n",
              "      <td>757.0</td>\n",
              "      <td>32.457464</td>\n",
              "      <td>6.924988</td>\n",
              "      <td>18.200</td>\n",
              "      <td>27.50000</td>\n",
              "      <td>32.3000</td>\n",
              "      <td>36.60000</td>\n",
              "      <td>67.10</td>\n",
              "    </tr>\n",
              "    <tr>\n",
              "      <th>DiabtsPFunction</th>\n",
              "      <td>768.0</td>\n",
              "      <td>0.471876</td>\n",
              "      <td>0.331329</td>\n",
              "      <td>0.078</td>\n",
              "      <td>0.24375</td>\n",
              "      <td>0.3725</td>\n",
              "      <td>0.62625</td>\n",
              "      <td>2.42</td>\n",
              "    </tr>\n",
              "    <tr>\n",
              "      <th>Age</th>\n",
              "      <td>768.0</td>\n",
              "      <td>33.240885</td>\n",
              "      <td>11.760232</td>\n",
              "      <td>21.000</td>\n",
              "      <td>24.00000</td>\n",
              "      <td>29.0000</td>\n",
              "      <td>41.00000</td>\n",
              "      <td>81.00</td>\n",
              "    </tr>\n",
              "    <tr>\n",
              "      <th>Outcome</th>\n",
              "      <td>768.0</td>\n",
              "      <td>0.348958</td>\n",
              "      <td>0.476951</td>\n",
              "      <td>0.000</td>\n",
              "      <td>0.00000</td>\n",
              "      <td>0.0000</td>\n",
              "      <td>1.00000</td>\n",
              "      <td>1.00</td>\n",
              "    </tr>\n",
              "  </tbody>\n",
              "</table>\n",
              "</div>"
            ],
            "text/plain": [
              "                 count        mean         std  ...       50%        75%     max\n",
              "Pregnancies      657.0    4.494673    3.217291  ...    4.0000    7.00000   17.00\n",
              "Glucose          763.0  121.686763   30.535641  ...  117.0000  141.00000  199.00\n",
              "BloodPressure    732.0   72.405738   12.390616  ...   72.0000   80.00000  122.00\n",
              "SkinThickness    541.0   29.153420   10.476982  ...   29.0000   36.00000   99.00\n",
              "Insulin          394.0  155.548223  118.775855  ...  125.0000  190.00000  846.00\n",
              "BMI              757.0   32.457464    6.924988  ...   32.3000   36.60000   67.10\n",
              "DiabtsPFunction  768.0    0.471876    0.331329  ...    0.3725    0.62625    2.42\n",
              "Age              768.0   33.240885   11.760232  ...   29.0000   41.00000   81.00\n",
              "Outcome          768.0    0.348958    0.476951  ...    0.0000    1.00000    1.00\n",
              "\n",
              "[9 rows x 8 columns]"
            ]
          },
          "metadata": {},
          "execution_count": 6
        }
      ]
    },
    {
      "cell_type": "markdown",
      "metadata": {
        "id": "uUov2NTblJJG"
      },
      "source": [
        "**Dataset description without missing vaues**"
      ]
    },
    {
      "cell_type": "code",
      "metadata": {
        "colab": {
          "base_uri": "https://localhost:8080/",
          "height": 325
        },
        "id": "O7tbGRIhfmjW",
        "outputId": "bae24aa9-bddd-43fb-ca9f-9a194bcc173e"
      },
      "source": [
        "data.describe().T"
      ],
      "execution_count": 7,
      "outputs": [
        {
          "output_type": "execute_result",
          "data": {
            "text/html": [
              "<div>\n",
              "<style scoped>\n",
              "    .dataframe tbody tr th:only-of-type {\n",
              "        vertical-align: middle;\n",
              "    }\n",
              "\n",
              "    .dataframe tbody tr th {\n",
              "        vertical-align: top;\n",
              "    }\n",
              "\n",
              "    .dataframe thead th {\n",
              "        text-align: right;\n",
              "    }\n",
              "</style>\n",
              "<table border=\"1\" class=\"dataframe\">\n",
              "  <thead>\n",
              "    <tr style=\"text-align: right;\">\n",
              "      <th></th>\n",
              "      <th>count</th>\n",
              "      <th>mean</th>\n",
              "      <th>std</th>\n",
              "      <th>min</th>\n",
              "      <th>25%</th>\n",
              "      <th>50%</th>\n",
              "      <th>75%</th>\n",
              "      <th>max</th>\n",
              "    </tr>\n",
              "  </thead>\n",
              "  <tbody>\n",
              "    <tr>\n",
              "      <th>Pregnancies</th>\n",
              "      <td>768.0</td>\n",
              "      <td>4.417081</td>\n",
              "      <td>3.034070</td>\n",
              "      <td>1.000</td>\n",
              "      <td>2.00000</td>\n",
              "      <td>4.000000</td>\n",
              "      <td>6.000000</td>\n",
              "      <td>17.00</td>\n",
              "    </tr>\n",
              "    <tr>\n",
              "      <th>Glucose</th>\n",
              "      <td>768.0</td>\n",
              "      <td>121.611469</td>\n",
              "      <td>30.495093</td>\n",
              "      <td>44.000</td>\n",
              "      <td>99.00000</td>\n",
              "      <td>117.000000</td>\n",
              "      <td>140.250000</td>\n",
              "      <td>199.00</td>\n",
              "    </tr>\n",
              "    <tr>\n",
              "      <th>BloodPressure</th>\n",
              "      <td>768.0</td>\n",
              "      <td>72.371507</td>\n",
              "      <td>12.200302</td>\n",
              "      <td>24.000</td>\n",
              "      <td>64.00000</td>\n",
              "      <td>72.000000</td>\n",
              "      <td>80.000000</td>\n",
              "      <td>122.00</td>\n",
              "    </tr>\n",
              "    <tr>\n",
              "      <th>SkinThickness</th>\n",
              "      <td>768.0</td>\n",
              "      <td>29.062651</td>\n",
              "      <td>9.330646</td>\n",
              "      <td>7.000</td>\n",
              "      <td>23.00000</td>\n",
              "      <td>29.000000</td>\n",
              "      <td>34.912326</td>\n",
              "      <td>99.00</td>\n",
              "    </tr>\n",
              "    <tr>\n",
              "      <th>Insulin</th>\n",
              "      <td>768.0</td>\n",
              "      <td>152.786421</td>\n",
              "      <td>96.979311</td>\n",
              "      <td>14.000</td>\n",
              "      <td>88.00000</td>\n",
              "      <td>134.760633</td>\n",
              "      <td>190.996218</td>\n",
              "      <td>846.00</td>\n",
              "    </tr>\n",
              "    <tr>\n",
              "      <th>BMI</th>\n",
              "      <td>768.0</td>\n",
              "      <td>32.444675</td>\n",
              "      <td>6.885439</td>\n",
              "      <td>18.200</td>\n",
              "      <td>27.50000</td>\n",
              "      <td>32.300000</td>\n",
              "      <td>36.600000</td>\n",
              "      <td>67.10</td>\n",
              "    </tr>\n",
              "    <tr>\n",
              "      <th>DiabtsPFunction</th>\n",
              "      <td>768.0</td>\n",
              "      <td>0.471876</td>\n",
              "      <td>0.331329</td>\n",
              "      <td>0.078</td>\n",
              "      <td>0.24375</td>\n",
              "      <td>0.372500</td>\n",
              "      <td>0.626250</td>\n",
              "      <td>2.42</td>\n",
              "    </tr>\n",
              "    <tr>\n",
              "      <th>Age</th>\n",
              "      <td>768.0</td>\n",
              "      <td>33.240885</td>\n",
              "      <td>11.760232</td>\n",
              "      <td>21.000</td>\n",
              "      <td>24.00000</td>\n",
              "      <td>29.000000</td>\n",
              "      <td>41.000000</td>\n",
              "      <td>81.00</td>\n",
              "    </tr>\n",
              "    <tr>\n",
              "      <th>Outcome</th>\n",
              "      <td>768.0</td>\n",
              "      <td>0.348958</td>\n",
              "      <td>0.476951</td>\n",
              "      <td>0.000</td>\n",
              "      <td>0.00000</td>\n",
              "      <td>0.000000</td>\n",
              "      <td>1.000000</td>\n",
              "      <td>1.00</td>\n",
              "    </tr>\n",
              "  </tbody>\n",
              "</table>\n",
              "</div>"
            ],
            "text/plain": [
              "                 count        mean        std  ...         50%         75%     max\n",
              "Pregnancies      768.0    4.417081   3.034070  ...    4.000000    6.000000   17.00\n",
              "Glucose          768.0  121.611469  30.495093  ...  117.000000  140.250000  199.00\n",
              "BloodPressure    768.0   72.371507  12.200302  ...   72.000000   80.000000  122.00\n",
              "SkinThickness    768.0   29.062651   9.330646  ...   29.000000   34.912326   99.00\n",
              "Insulin          768.0  152.786421  96.979311  ...  134.760633  190.996218  846.00\n",
              "BMI              768.0   32.444675   6.885439  ...   32.300000   36.600000   67.10\n",
              "DiabtsPFunction  768.0    0.471876   0.331329  ...    0.372500    0.626250    2.42\n",
              "Age              768.0   33.240885  11.760232  ...   29.000000   41.000000   81.00\n",
              "Outcome          768.0    0.348958   0.476951  ...    0.000000    1.000000    1.00\n",
              "\n",
              "[9 rows x 8 columns]"
            ]
          },
          "metadata": {},
          "execution_count": 7
        }
      ]
    },
    {
      "cell_type": "code",
      "metadata": {
        "id": "dQ0yxaTzbOmX"
      },
      "source": [
        "#pip install missingno"
      ],
      "execution_count": 8,
      "outputs": []
    },
    {
      "cell_type": "code",
      "metadata": {
        "id": "Gs-h5VRKba2Y"
      },
      "source": [
        "import missingno as msno"
      ],
      "execution_count": 9,
      "outputs": []
    },
    {
      "cell_type": "markdown",
      "metadata": {
        "id": "kwkIocxGifQO"
      },
      "source": [
        "#Representation of missing values"
      ]
    },
    {
      "cell_type": "code",
      "metadata": {
        "colab": {
          "base_uri": "https://localhost:8080/",
          "height": 536
        },
        "id": "8XEqy5J4Wsg-",
        "outputId": "f305df60-5342-4fac-e528-3175b5e26384"
      },
      "source": [
        "filtered_data = msno.nullity_filter(data1, filter='bottom', n=8, p=0.999) # or filter='top'\n",
        "#msno.matrix(filtered_data.sample(768))\n",
        "msno.matrix(data1,fontsize=14,figsize = (8,7))\n"
      ],
      "execution_count": 10,
      "outputs": [
        {
          "output_type": "execute_result",
          "data": {
            "text/plain": [
              "<matplotlib.axes._subplots.AxesSubplot at 0x7f88bbf4d950>"
            ]
          },
          "metadata": {},
          "execution_count": 10
        },
        {
          "output_type": "display_data",
          "data": {
            "image/png": "[encoded data removed]",
            "text/plain": [
              "<Figure size 576x504 with 2 Axes>"
            ]
          },
          "metadata": {
            "needs_background": "light"
          }
        }
      ]
    },
    {
      "cell_type": "code",
      "metadata": {
        "colab": {
          "base_uri": "https://localhost:8080/",
          "height": 358
        },
        "id": "-V-NvDImWsme",
        "outputId": "70c94b55-d303-4563-b89c-057bb1c58f43"
      },
      "source": [
        "sns.heatmap(data1.isnull(), cbar=False)"
      ],
      "execution_count": 11,
      "outputs": [
        {
          "output_type": "execute_result",
          "data": {
            "text/plain": [
              "<matplotlib.axes._subplots.AxesSubplot at 0x7f88b3626550>"
            ]
          },
          "metadata": {},
          "execution_count": 11
        },
        {
          "output_type": "display_data",
          "data": {
            "image/png": "[encoded data removed]",
            "text/plain": [
              "<Figure size 432x288 with 1 Axes>"
            ]
          },
          "metadata": {
            "needs_background": "light"
          }
        }
      ]
    },
    {
      "cell_type": "code",
      "metadata": {
        "colab": {
          "base_uri": "https://localhost:8080/",
          "height": 401
        },
        "id": "Ndi7xa-SiXnH",
        "outputId": "04a569b4-9b73-496c-8292-8cccc948f1ac"
      },
      "source": [
        "import missingno as msno\n",
        "p=msno.bar(data1,fontsize=10,figsize = (6,5))"
      ],
      "execution_count": 12,
      "outputs": [
        {
          "output_type": "display_data",
          "data": {
            "image/png": "[encoded data removed]",
            "text/plain": [
              "<Figure size 432x360 with 3 Axes>"
            ]
          },
          "metadata": {
            "needs_background": "light"
          }
        }
      ]
    },
    {
      "cell_type": "markdown",
      "metadata": {
        "id": "nrZmCi4tiaze"
      },
      "source": [
        "#After imputation\n",
        "**K-nearest neighbor model has been used for imputation.**"
      ]
    },
    {
      "cell_type": "code",
      "metadata": {
        "colab": {
          "base_uri": "https://localhost:8080/",
          "height": 401
        },
        "id": "yhs0zXU2WspO",
        "outputId": "5d1dcea0-ce7f-4cfe-986f-738572c937ca"
      },
      "source": [
        "import missingno as msno\n",
        "p=msno.bar(data,fontsize=10,figsize = (6,5))"
      ],
      "execution_count": 13,
      "outputs": [
        {
          "output_type": "display_data",
          "data": {
            "image/png": "[encoded data removed]",
            "text/plain": [
              "<Figure size 432x360 with 3 Axes>"
            ]
          },
          "metadata": {
            "needs_background": "light"
          }
        }
      ]
    },
    {
      "cell_type": "markdown",
      "metadata": {
        "id": "Y0hTg9xbikXm"
      },
      "source": [
        "#Histogram of all features"
      ]
    },
    {
      "cell_type": "code",
      "metadata": {
        "colab": {
          "base_uri": "https://localhost:8080/",
          "height": 879
        },
        "id": "KNi5dZSTWsrx",
        "outputId": "0dc70dfe-d75e-4b0e-9004-890eede9f6ab"
      },
      "source": [
        "p = data.hist(figsize = (15,15))"
      ],
      "execution_count": 14,
      "outputs": [
        {
          "output_type": "display_data",
          "data": {
            "image/png": "[encoded data removed]",
            "text/plain": [
              "<Figure size 1080x1080 with 9 Axes>"
            ]
          },
          "metadata": {
            "needs_background": "light"
          }
        }
      ]
    },
    {
      "cell_type": "markdown",
      "metadata": {
        "id": "T4zb1fqvONuc"
      },
      "source": [
        "#Feature extraction\n",
        "Feature extraction is the process of reducing the number of attributes in a dataset. Irrelevant features that tend to increase the model's accuracy are reduced[1]."
      ]
    },
    {
      "cell_type": "markdown",
      "metadata": {
        "id": "wDBPW-JcPMRr"
      },
      "source": [
        "**Using extra tree classifier**\n",
        "\n"
      ]
    },
    {
      "cell_type": "code",
      "metadata": {
        "colab": {
          "base_uri": "https://localhost:8080/",
          "height": 298
        },
        "id": "bIhSdF4vOLRi",
        "outputId": "4981443b-ef69-4156-a7c9-3df9968aa178"
      },
      "source": [
        "import pandas as pd\n",
        "import numpy as np\n",
        "import warnings\n",
        "warnings.filterwarnings(\"ignore\")\n",
        "\n",
        "X = data.iloc[:,0:8]  #independent columns\n",
        "y = data.iloc[:,-1]    #target column i.e price range\n",
        "from sklearn.ensemble import ExtraTreesClassifier\n",
        "import matplotlib.pyplot as plt\n",
        "model = ExtraTreesClassifier()\n",
        "model.fit(X,y)\n",
        "print(model.feature_importances_) #use inbuilt class feature_importances of tree based classifiers\n",
        "#plot graph of feature importances for better visualization\n",
        "feat_importances = pd.Series(model.feature_importances_, index=X.columns)\n",
        "feat_importances.nlargest(13).plot(kind='barh')\n",
        "plt.show()"
      ],
      "execution_count": 15,
      "outputs": [
        {
          "output_type": "stream",
          "name": "stdout",
          "text": [
            "[0.10740042 0.21906735 0.08507461 0.10733264 0.126724   0.12836824\n",
            " 0.1063093  0.11972344]\n"
          ]
        },
        {
          "output_type": "display_data",
          "data": {
            "image/png": "[encoded data removed]",
            "text/plain": [
              "<Figure size 432x288 with 1 Axes>"
            ]
          },
          "metadata": {
            "needs_background": "light"
          }
        }
      ]
    },
    {
      "cell_type": "markdown",
      "metadata": {
        "id": "c-Zt-ICVPVFx"
      },
      "source": [
        "**`Using chi square test`**\n",
        "\n",
        "The top significant features were selected using the chi-square test. It selects the features that have the best connection with output[2]."
      ]
    },
    {
      "cell_type": "code",
      "metadata": {
        "colab": {
          "base_uri": "https://localhost:8080/"
        },
        "id": "lwTclae0OLka",
        "outputId": "75fbe0f5-3796-48ac-eb60-eb2e2d169995"
      },
      "source": [
        "import pandas as pd\n",
        "import numpy as np\n",
        "from sklearn.feature_selection import SelectKBest\n",
        "from sklearn.feature_selection import chi2\n",
        "\n",
        "X = data.iloc[:,0:8]  #independent columns\n",
        "y = data.iloc[:,8]    #target column i.e price range\n",
        "#apply SelectKBest class to extract top 10 best features\n",
        "bestfeatures = SelectKBest(score_func=chi2, k=8)\n",
        "fit = bestfeatures.fit(X,y)\n",
        "dfscores = pd.DataFrame(fit.scores_)\n",
        "dfcolumns = pd.DataFrame(X.columns)\n",
        "#concat two dataframes for better visualization \n",
        "featureScores = pd.concat([dfcolumns,dfscores],axis=1)\n",
        "featureScores.columns = ['Specs','Score']  #naming the dataframe columns\n",
        "print(featureScores.nlargest(13,'Score'))  #print 10 best features"
      ],
      "execution_count": 16,
      "outputs": [
        {
          "output_type": "stream",
          "name": "stdout",
          "text": [
            "             Specs        Score\n",
            "4          Insulin  4958.527390\n",
            "1          Glucose  1443.809168\n",
            "7              Age   181.303689\n",
            "3    SkinThickness   175.670426\n",
            "5              BMI   110.709057\n",
            "0      Pregnancies   101.664014\n",
            "2    BloodPressure    49.491262\n",
            "6  DiabtsPFunction     5.392682\n"
          ]
        }
      ]
    },
    {
      "cell_type": "code",
      "metadata": {
        "colab": {
          "base_uri": "https://localhost:8080/",
          "height": 298
        },
        "id": "DE90-A8iOLnT",
        "outputId": "7bd2e29a-62b4-4f4a-a11f-e0b488b92631"
      },
      "source": [
        "import pandas as pd\n",
        "import numpy as np\n",
        "import warnings\n",
        "warnings.filterwarnings(\"ignore\")\n",
        "\n",
        "X = data.iloc[:,0:8]  #independent columns\n",
        "y = data.iloc[:,-1]    #target column i.e price range\n",
        "from sklearn.ensemble import ExtraTreesClassifier\n",
        "import matplotlib.pyplot as plt\n",
        "model = ExtraTreesClassifier()\n",
        "model.fit(X,y)\n",
        "print(model.feature_importances_) #use inbuilt class feature_importances of tree based classifiers\n",
        "#plot graph of feature importances for better visualization\n",
        "feat_importances = pd.Series(model.feature_importances_, index=X.columns)\n",
        "feat_importances.nlargest(8).plot(kind='barh')\n",
        "plt.show()"
      ],
      "execution_count": 17,
      "outputs": [
        {
          "output_type": "stream",
          "name": "stdout",
          "text": [
            "[0.10124722 0.22067501 0.08841149 0.10275504 0.12392421 0.12964304\n",
            " 0.10529485 0.12804913]\n"
          ]
        },
        {
          "output_type": "display_data",
          "data": {
            "image/png": "[encoded data removed]",
            "text/plain": [
              "<Figure size 432x288 with 1 Axes>"
            ]
          },
          "metadata": {
            "needs_background": "light"
          }
        }
      ]
    }
  ]
}